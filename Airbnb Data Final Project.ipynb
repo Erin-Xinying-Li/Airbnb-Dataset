{
 "cells": [
  {
   "cell_type": "markdown",
   "metadata": {},
   "source": [
    "# Final Project\n",
    "\n",
    "You will be asked to download data by yourselves and answer several data science questions through this final project. This project has two parts.\n",
    "\n",
    "\n",
    "## Part 1 (15 Points):\n",
    "\n",
    "This part contains 10 different data science questions that you are asked to answer. You need to download the corresponding data and write code to process the data to answer these questions. For each question, you need to provide your code to anser this question, as well as final asnwers. Each question will be worth 1.5 points in this part. \n",
    "\n",
    "\n",
    "## Final Submission:\n",
    "\n",
    "Your final submission will contain two files:\n",
    "\n",
    "1. The first would be this notebook. You need to provide code for your answers as well as your answers. You also need to provide visualization and executive summary using Markdown in this notebook. \n",
    "\n",
    "2. The second is the html version of this notebook. \n"
   ]
  },
  {
   "cell_type": "markdown",
   "metadata": {},
   "source": [
    "## Part 1\n",
    "\n",
    "First, you need to download the most recent datasets containing listing and reviews in **Los Angeles** from (insidearibnb.com)[http://insideairbnb.com/get-the-data.html]. You will then need to provide the code as well as answers to the following questions.\n",
    "\n",
    "**To make sure that you downloaded the right dataset, your solution to Question 1 should be:**\n",
    "1. **Number of unique listings = 43763**\n",
    "2. **Number of unique hosts = 26730**"
   ]
  },
  {
   "cell_type": "markdown",
   "metadata": {},
   "source": [
    "### Question 1: How many unique listings are there in the LA dataset? How many unique hosts are there?\n",
    "**Question 1 Answer:**\n",
    "\n",
    "\n",
    "There are 43763 unique listings in the LA dataset, and there are 26730 unique hosts"
   ]
  },
  {
   "cell_type": "code",
   "execution_count": 39,
   "metadata": {},
   "outputs": [],
   "source": [
    "import pandas as pd\n",
    "import numpy as np"
   ]
  },
  {
   "cell_type": "code",
   "execution_count": 40,
   "metadata": {
    "scrolled": true
   },
   "outputs": [
    {
     "data": {
      "text/html": [
       "<div>\n",
       "<style scoped>\n",
       "    .dataframe tbody tr th:only-of-type {\n",
       "        vertical-align: middle;\n",
       "    }\n",
       "\n",
       "    .dataframe tbody tr th {\n",
       "        vertical-align: top;\n",
       "    }\n",
       "\n",
       "    .dataframe thead th {\n",
       "        text-align: right;\n",
       "    }\n",
       "</style>\n",
       "<table border=\"1\" class=\"dataframe\">\n",
       "  <thead>\n",
       "    <tr style=\"text-align: right;\">\n",
       "      <th></th>\n",
       "      <th>id</th>\n",
       "      <th>host_listings_count</th>\n",
       "      <th>host_total_listings_count</th>\n",
       "      <th>calculated_host_listings_count</th>\n",
       "    </tr>\n",
       "  </thead>\n",
       "  <tbody>\n",
       "    <tr>\n",
       "      <th>10</th>\n",
       "      <td>6033</td>\n",
       "      <td>12.0</td>\n",
       "      <td>12.0</td>\n",
       "      <td>5</td>\n",
       "    </tr>\n",
       "    <tr>\n",
       "      <th>123</th>\n",
       "      <td>84789</td>\n",
       "      <td>12.0</td>\n",
       "      <td>12.0</td>\n",
       "      <td>5</td>\n",
       "    </tr>\n",
       "    <tr>\n",
       "      <th>994</th>\n",
       "      <td>724996</td>\n",
       "      <td>12.0</td>\n",
       "      <td>12.0</td>\n",
       "      <td>5</td>\n",
       "    </tr>\n",
       "    <tr>\n",
       "      <th>1955</th>\n",
       "      <td>1508237</td>\n",
       "      <td>12.0</td>\n",
       "      <td>12.0</td>\n",
       "      <td>5</td>\n",
       "    </tr>\n",
       "    <tr>\n",
       "      <th>9390</th>\n",
       "      <td>9148791</td>\n",
       "      <td>12.0</td>\n",
       "      <td>12.0</td>\n",
       "      <td>5</td>\n",
       "    </tr>\n",
       "  </tbody>\n",
       "</table>\n",
       "</div>"
      ],
      "text/plain": [
       "           id  host_listings_count  host_total_listings_count  \\\n",
       "10       6033                 12.0                       12.0   \n",
       "123     84789                 12.0                       12.0   \n",
       "994    724996                 12.0                       12.0   \n",
       "1955  1508237                 12.0                       12.0   \n",
       "9390  9148791                 12.0                       12.0   \n",
       "\n",
       "      calculated_host_listings_count  \n",
       "10                                 5  \n",
       "123                                5  \n",
       "994                                5  \n",
       "1955                               5  \n",
       "9390                               5  "
      ]
     },
     "execution_count": 40,
     "metadata": {},
     "output_type": "execute_result"
    }
   ],
   "source": [
    "# You need to provide the code to answer the previous quesiton\n",
    "# (you should also briefly explain your data structure -- \n",
    "# where do you put your data and how you get your data)\n",
    "\n",
    "df = pd.read_csv(\"./listing_data/listings.csv\")\n",
    "# listing.csv is under the listing_data folder, \n",
    "# while this python notebook file is stored within the same directory as the listing_data folder\n",
    "\n",
    "df[\"id\"].nunique(),df[\"host_id\"].nunique()\n",
    "df.loc[df['host_id']==11619,['id','host_listings_count','host_total_listings_count','calculated_host_listings_count']]"
   ]
  },
  {
   "cell_type": "markdown",
   "metadata": {},
   "source": [
    "### Question 2: What is the mean, median, standard deviation, minimum and maximum of the number of listings per host in LA? (for each host, you only need to consider the listings from LA)\n",
    "**Question 2 Answer:**\n",
    "\n",
    "(You need to write your answer in this markdown cell)"
   ]
  },
  {
   "cell_type": "code",
   "execution_count": 137,
   "metadata": {},
   "outputs": [],
   "source": [
    "# You need to provide the code to answer the previous quesiton\n",
    "df1 = df.groupby(by=[\"host_id\"]).apply(lambda x:pd.Series({\"listing_per_host\":x[\"id\"].count()})).reset_index()\n",
    "mean= df1.listing_per_host.mean()\n",
    "median= df1.listing_per_host.median()\n",
    "std= df1.listing_per_host.std()\n",
    "max_df1=df1.listing_per_host.max()\n",
    "min_df1=df1.listing_per_host.min()"
   ]
  },
  {
   "cell_type": "code",
   "execution_count": 138,
   "metadata": {},
   "outputs": [
    {
     "data": {
      "text/plain": [
       "(1.6372240927796484, 1.0, 2.4972817129321685, 152, 1)"
      ]
     },
     "execution_count": 138,
     "metadata": {},
     "output_type": "execute_result"
    }
   ],
   "source": [
    "mean,median,std,max_df1,min_df1"
   ]
  },
  {
   "cell_type": "markdown",
   "metadata": {},
   "source": [
    "### Question 3: What is the average and standard deviation number of listings for a super host versus a non-super host? Does super host or non-super host have more listings on average?\n",
    "**Question 3 Answer:**\n",
    "\n",
    "(You need to write your answer in this markdown cell)"
   ]
  },
  {
   "cell_type": "code",
   "execution_count": 59,
   "metadata": {},
   "outputs": [
    {
     "data": {
      "text/html": [
       "<div>\n",
       "<style scoped>\n",
       "    .dataframe tbody tr th:only-of-type {\n",
       "        vertical-align: middle;\n",
       "    }\n",
       "\n",
       "    .dataframe tbody tr th {\n",
       "        vertical-align: top;\n",
       "    }\n",
       "\n",
       "    .dataframe thead th {\n",
       "        text-align: right;\n",
       "    }\n",
       "</style>\n",
       "<table border=\"1\" class=\"dataframe\">\n",
       "  <thead>\n",
       "    <tr style=\"text-align: right;\">\n",
       "      <th></th>\n",
       "      <th>mean</th>\n",
       "      <th>std</th>\n",
       "    </tr>\n",
       "    <tr>\n",
       "      <th>host_is_superhost</th>\n",
       "      <th></th>\n",
       "      <th></th>\n",
       "    </tr>\n",
       "  </thead>\n",
       "  <tbody>\n",
       "    <tr>\n",
       "      <th>f</th>\n",
       "      <td>1.603263</td>\n",
       "      <td>2.646289</td>\n",
       "    </tr>\n",
       "    <tr>\n",
       "      <th>t</th>\n",
       "      <td>1.753056</td>\n",
       "      <td>1.902281</td>\n",
       "    </tr>\n",
       "  </tbody>\n",
       "</table>\n",
       "</div>"
      ],
      "text/plain": [
       "                       mean       std\n",
       "host_is_superhost                    \n",
       "f                  1.603263  2.646289\n",
       "t                  1.753056  1.902281"
      ]
     },
     "execution_count": 59,
     "metadata": {},
     "output_type": "execute_result"
    }
   ],
   "source": [
    "# You need to provide the code to answer the previous quesiton\n",
    "df3 = df.drop_duplicates(keep=\"first\",subset=[\"host_id\"]).\\\n",
    "      groupby(by=[\"host_is_superhost\"])[\"calculated_host_listings_count\"].agg([np.mean,np.std])\n",
    "df3"
   ]
  },
  {
   "cell_type": "markdown",
   "metadata": {},
   "source": [
    "### Question 4: What are the unique types of host verifications are there? (It doesn't matter if you include \"None\" or empty string as a type)\n",
    "**Question 4 Answer:**\n",
    "\n",
    "(You need to write your answer in this markdown cell)"
   ]
  },
  {
   "cell_type": "code",
   "execution_count": 5,
   "metadata": {},
   "outputs": [
    {
     "data": {
      "text/plain": [
       "(['email',\n",
       "  'phone',\n",
       "  'facebook',\n",
       "  'reviews',\n",
       "  'kba',\n",
       "  'jumio',\n",
       "  'government_id',\n",
       "  'offline_government_id',\n",
       "  'selfie',\n",
       "  'identity_manual',\n",
       "  'work_email',\n",
       "  'google',\n",
       "  'manual_online',\n",
       "  'manual_offline',\n",
       "  '',\n",
       "  'sent_id',\n",
       "  'sesame',\n",
       "  'sesame_offline',\n",
       "  'None',\n",
       "  'photographer',\n",
       "  'zhima_selfie',\n",
       "  'weibo'],\n",
       " 22)"
      ]
     },
     "execution_count": 5,
     "metadata": {},
     "output_type": "execute_result"
    }
   ],
   "source": [
    "# You need to provide the code to answer the previous quesiton\n",
    "type_list=[]\n",
    "for row in df.host_verifications.values.tolist():\n",
    "    normal = row.strip(\"[]\").replace(\"'\",\"\").split(\", \")\n",
    "    for value_type in normal:\n",
    "        if value_type not in type_list:\n",
    "            type_list.append(value_type)\n",
    "type_list,len(type_list)"
   ]
  },
  {
   "cell_type": "markdown",
   "metadata": {},
   "source": [
    "### Question 5: What are the five most popular verification types of hosts? For each type of the top five verifications, how many percent of hosts verify that type?\n",
    "**Question 5 Answer:**\n",
    "\n",
    "(You need to write your answer in this markdown cell)"
   ]
  },
  {
   "cell_type": "code",
   "execution_count": 76,
   "metadata": {},
   "outputs": [
    {
     "data": {
      "text/plain": [
       "{'phone': 0.9937523381967827,\n",
       " 'email': 0.9353909465020576,\n",
       " 'reviews': 0.7422745978301534,\n",
       " 'government_id': 0.464983164983165,\n",
       " 'jumio': 0.45173961840628507,\n",
       " 'kba': 0.2632248410026188}"
      ]
     },
     "execution_count": 76,
     "metadata": {},
     "output_type": "execute_result"
    }
   ],
   "source": [
    "# You need to provide the code to answer the previous quesiton\n",
    "#df.loc[:, ['host_id','host_verifications']].groupby(by=\"host_id\")[\"host_verifications\"].value_counts()\n",
    "df5 = df.drop_duplicates(keep =\"first\",subset=[\"host_id\"]).loc[:,[\"host_id\",\"host_verifications\"]]\n",
    "\n",
    "type_dict={}\n",
    "\n",
    "for index,row in df5.iterrows():\n",
    "    j = row['host_verifications'].strip('[]').replace(\"'\",\"\").split(', ')\n",
    "    for t in j:\n",
    "        if t not in type_dict:\n",
    "            type_dict[t]=1\n",
    "        else:\n",
    "            type_dict[t]+=1\n",
    "five_popular = sorted(type_dict.items(),key = lambda x:x[1],reverse = True)[:6]\n",
    "five_popular\n",
    "\n",
    "total_id = len(df5.host_id)\n",
    "five_perc={}\n",
    "for i in range(len(five_popular)):\n",
    "    five_perc[five_popular[i][0]] = five_popular[i][1]/total_id \n",
    "\n",
    "five_perc\n"
   ]
  },
  {
   "cell_type": "markdown",
   "metadata": {},
   "source": [
    "### Question 6: What is the mean, standard deviation of the average price of a listing in Los Angles from 01/01/2019 to 03/01/2019 (inclusive)? (For listings that are not available in this time, you should not count them in the average price.)\n",
    "\n",
    "**Question 6 Answer:**\n",
    "\n",
    "(You need to write your answer in this markdown cell)"
   ]
  },
  {
   "cell_type": "code",
   "execution_count": 57,
   "metadata": {
    "scrolled": true
   },
   "outputs": [
    {
     "data": {
      "text/plain": [
       "(213.2409167657559, 577.3961352033027)"
      ]
     },
     "execution_count": 57,
     "metadata": {},
     "output_type": "execute_result"
    }
   ],
   "source": [
    "df_calendar = pd.read_csv(\"./calendar/calendar.csv\",parse_dates=[\"date\"])\n",
    "calendar = df_calendar.loc[(df_calendar.date >= \"2019-1-1\") & (df_calendar.date <= \"2019-3-1\") & (df_calendar.available == \"t\")].\\\n",
    "drop_duplicates(keep = \"first\")\n",
    "calendar[\"price\"] = calendar[\"price\"].apply(lambda x:float(x.replace(\"$\",\"\").replace(\",\",\"\")))\n",
    "mean_of_aveprice = calendar.groupby(\"listing_id\")[\"price\"].mean().mean()\n",
    "std_of_aveprice = calendar.groupby(\"listing_id\")[\"price\"].mean().std()\n",
    "mean_of_aveprice,std_of_aveprice"
   ]
  },
  {
   "cell_type": "markdown",
   "metadata": {},
   "source": [
    "### Question 7: For reviews that are written in Jan, 2016, what are the most popular ten words except stopping words? What about reviews written in March, 2017 and April, 2018?\n",
    "**Hint**: You need to use NTLK stopping words to find the stopping words in Python. You also need to remove punctuation and numbers\n",
    "\n",
    "**Question 7 Answer:**\n",
    "\n",
    "(You need to write your answer in this markdown cell)"
   ]
  },
  {
   "cell_type": "code",
   "execution_count": 27,
   "metadata": {},
   "outputs": [],
   "source": [
    "# You need to provide the code to answer the previous quesiton\n",
    "import nltk\n",
    "from nltk.corpus import stopwords\n",
    "from nltk.tokenize import word_tokenize\n"
   ]
  },
  {
   "cell_type": "markdown",
   "metadata": {},
   "source": [
    "### Question 8: Which five zipcode has the highest average listing price and has at least 30 listings (again only considering available dates) between 2019-01-01 to 2019-02-01 (inclusive)? What are these listing prices? What are the number of active listings and number of hosts in these top five zipcodes (a listing is active if it has at least one available date in the calendar data)?\n",
    "\n",
    "**Question 8 Answer:**\n",
    "\n",
    "(You need to write your answer in this markdown cell)"
   ]
  },
  {
   "cell_type": "code",
   "execution_count": 113,
   "metadata": {},
   "outputs": [
    {
     "name": "stdout",
     "output_type": "stream",
     "text": [
      "zipcode\n",
      "90210    1440.587339\n",
      "37738    1178.687500\n",
      "90265    1119.410276\n",
      "90069     776.265778\n",
      "90077     740.833933\n",
      "Name: price, dtype: float64\n"
     ]
    },
    {
     "data": {
      "text/plain": [
       "(43712, 1141)"
      ]
     },
     "execution_count": 113,
     "metadata": {},
     "output_type": "execute_result"
    }
   ],
   "source": [
    "# You need to provide the code to answer the previous quesiton\n",
    "df_calendar8 = df_calendar.loc[(df_calendar.date >= \"2019-1-1\") & (df_calendar.date <= \"2019-2-1\"),:]\n",
    "df_listing =df.loc[:,[\"id\",\"zipcode\",\"host_id\"]]\n",
    "df_join = df_calendar8.merge(df_listing, how=\"inner\", left_on =\"listing_id\",right_on =\"id\")\n",
    "df_join[\"available\"] = df_join[\"available\"].apply(lambda x: True if x ==\"t\" else False)\n",
    "df_join[\"price\"] = df_join[\"price\"].apply(lambda x: float(str(x).replace(\"$\",\"\").replace(\",\",\"\")))\n",
    "df_true=df_join.loc[df_join[\"available\"]== True,:]\n",
    "df8 = df_true.groupby(\"zipcode\").filter(lambda x: len(x)>=30)\n",
    "zipcodeseries=df8.groupby(by=[\"zipcode\"]).price.mean().sort_values(ascending=False).head(5)\n",
    "print(zipcodeseries)\n",
    "\n",
    "\n"
   ]
  },
  {
   "cell_type": "code",
   "execution_count": 127,
   "metadata": {},
   "outputs": [
    {
     "data": {
      "text/html": [
       "<div>\n",
       "<style scoped>\n",
       "    .dataframe tbody tr th:only-of-type {\n",
       "        vertical-align: middle;\n",
       "    }\n",
       "\n",
       "    .dataframe tbody tr th {\n",
       "        vertical-align: top;\n",
       "    }\n",
       "\n",
       "    .dataframe thead th {\n",
       "        text-align: right;\n",
       "    }\n",
       "</style>\n",
       "<table border=\"1\" class=\"dataframe\">\n",
       "  <thead>\n",
       "    <tr style=\"text-align: right;\">\n",
       "      <th></th>\n",
       "      <th>num_of_host</th>\n",
       "      <th>num_of_active_listing</th>\n",
       "    </tr>\n",
       "    <tr>\n",
       "      <th>zipcode</th>\n",
       "      <th></th>\n",
       "      <th></th>\n",
       "    </tr>\n",
       "  </thead>\n",
       "  <tbody>\n",
       "    <tr>\n",
       "      <th>37738</th>\n",
       "      <td>1</td>\n",
       "      <td>1</td>\n",
       "    </tr>\n",
       "    <tr>\n",
       "      <th>90069</th>\n",
       "      <td>508</td>\n",
       "      <td>529</td>\n",
       "    </tr>\n",
       "    <tr>\n",
       "      <th>90077</th>\n",
       "      <td>66</td>\n",
       "      <td>66</td>\n",
       "    </tr>\n",
       "    <tr>\n",
       "      <th>90210</th>\n",
       "      <td>257</td>\n",
       "      <td>297</td>\n",
       "    </tr>\n",
       "    <tr>\n",
       "      <th>90265</th>\n",
       "      <td>379</td>\n",
       "      <td>473</td>\n",
       "    </tr>\n",
       "  </tbody>\n",
       "</table>\n",
       "</div>"
      ],
      "text/plain": [
       "         num_of_host  num_of_active_listing\n",
       "zipcode                                    \n",
       "37738              1                      1\n",
       "90069            508                    529\n",
       "90077             66                     66\n",
       "90210            257                    297\n",
       "90265            379                    473"
      ]
     },
     "execution_count": 127,
     "metadata": {},
     "output_type": "execute_result"
    }
   ],
   "source": [
    "fivezipcode = list(zipcodeseries.index)\n",
    "df_five=df_join.loc[df_join[\"zipcode\"].isin(fivezipcode),:]\n",
    "def fuck(wtf):\n",
    "    num_of_host=wtf[\"host_id\"].nunique()\n",
    "    listing_a=wtf.groupby(by=[\"listing_id\"]).available.sum().reset_index()\n",
    "    listing_a[\"available\"]=listing_a.available.apply(lambda x:1 if x!=0 else 0)\n",
    "    num_of_active_listing = listing_a[\"available\"].sum()\n",
    "    return pd.Series({\"num_of_host\":num_of_host,\"num_of_active_listing\":num_of_active_listing})\n",
    "result=df_five.groupby(\"zipcode\").apply(fuck)\n",
    "result"
   ]
  },
  {
   "cell_type": "code",
   "execution_count": 126,
   "metadata": {},
   "outputs": [
    {
     "data": {
      "text/html": [
       "<div>\n",
       "<style scoped>\n",
       "    .dataframe tbody tr th:only-of-type {\n",
       "        vertical-align: middle;\n",
       "    }\n",
       "\n",
       "    .dataframe tbody tr th {\n",
       "        vertical-align: top;\n",
       "    }\n",
       "\n",
       "    .dataframe thead th {\n",
       "        text-align: right;\n",
       "    }\n",
       "</style>\n",
       "<table border=\"1\" class=\"dataframe\">\n",
       "  <thead>\n",
       "    <tr style=\"text-align: right;\">\n",
       "      <th></th>\n",
       "      <th>num_of_host</th>\n",
       "      <th>num_of_active_listing</th>\n",
       "    </tr>\n",
       "    <tr>\n",
       "      <th>zipcode</th>\n",
       "      <th></th>\n",
       "      <th></th>\n",
       "    </tr>\n",
       "  </thead>\n",
       "  <tbody>\n",
       "    <tr>\n",
       "      <th>37738</th>\n",
       "      <td>1</td>\n",
       "      <td>32</td>\n",
       "    </tr>\n",
       "    <tr>\n",
       "      <th>90069</th>\n",
       "      <td>508</td>\n",
       "      <td>12834</td>\n",
       "    </tr>\n",
       "    <tr>\n",
       "      <th>90077</th>\n",
       "      <td>66</td>\n",
       "      <td>1668</td>\n",
       "    </tr>\n",
       "    <tr>\n",
       "      <th>90210</th>\n",
       "      <td>257</td>\n",
       "      <td>7614</td>\n",
       "    </tr>\n",
       "    <tr>\n",
       "      <th>90265</th>\n",
       "      <td>379</td>\n",
       "      <td>11502</td>\n",
       "    </tr>\n",
       "  </tbody>\n",
       "</table>\n",
       "</div>"
      ],
      "text/plain": [
       "         num_of_host  num_of_active_listing\n",
       "zipcode                                    \n",
       "37738              1                     32\n",
       "90069            508                  12834\n",
       "90077             66                   1668\n",
       "90210            257                   7614\n",
       "90265            379                  11502"
      ]
     },
     "execution_count": 126,
     "metadata": {},
     "output_type": "execute_result"
    }
   ],
   "source": [
    "\n",
    "result=df_five.groupby(\"zipcode\").apply(lambda x:pd.Series({\"num_of_host\":x[\"host_id\"].nunique(),\\\n",
    "                                                            \"num_of_active_listing\":x[\"available\"].sum()}))\n",
    "result"
   ]
  },
  {
   "cell_type": "code",
   "execution_count": 114,
   "metadata": {},
   "outputs": [
    {
     "data": {
      "text/html": [
       "<div>\n",
       "<style scoped>\n",
       "    .dataframe tbody tr th:only-of-type {\n",
       "        vertical-align: middle;\n",
       "    }\n",
       "\n",
       "    .dataframe tbody tr th {\n",
       "        vertical-align: top;\n",
       "    }\n",
       "\n",
       "    .dataframe thead th {\n",
       "        text-align: right;\n",
       "    }\n",
       "</style>\n",
       "<table border=\"1\" class=\"dataframe\">\n",
       "  <thead>\n",
       "    <tr style=\"text-align: right;\">\n",
       "      <th></th>\n",
       "      <th>listing_id</th>\n",
       "      <th>date</th>\n",
       "      <th>available</th>\n",
       "      <th>price</th>\n",
       "      <th>id</th>\n",
       "      <th>zipcode</th>\n",
       "      <th>host_id</th>\n",
       "    </tr>\n",
       "  </thead>\n",
       "  <tbody>\n",
       "    <tr>\n",
       "      <th>1504</th>\n",
       "      <td>33447</td>\n",
       "      <td>2019-02-01</td>\n",
       "      <td>True</td>\n",
       "      <td>185.0</td>\n",
       "      <td>33447</td>\n",
       "      <td>90265</td>\n",
       "      <td>144837</td>\n",
       "    </tr>\n",
       "    <tr>\n",
       "      <th>1505</th>\n",
       "      <td>33447</td>\n",
       "      <td>2019-01-31</td>\n",
       "      <td>True</td>\n",
       "      <td>185.0</td>\n",
       "      <td>33447</td>\n",
       "      <td>90265</td>\n",
       "      <td>144837</td>\n",
       "    </tr>\n",
       "    <tr>\n",
       "      <th>1506</th>\n",
       "      <td>33447</td>\n",
       "      <td>2019-01-30</td>\n",
       "      <td>True</td>\n",
       "      <td>185.0</td>\n",
       "      <td>33447</td>\n",
       "      <td>90265</td>\n",
       "      <td>144837</td>\n",
       "    </tr>\n",
       "    <tr>\n",
       "      <th>1507</th>\n",
       "      <td>33447</td>\n",
       "      <td>2019-01-29</td>\n",
       "      <td>True</td>\n",
       "      <td>185.0</td>\n",
       "      <td>33447</td>\n",
       "      <td>90265</td>\n",
       "      <td>144837</td>\n",
       "    </tr>\n",
       "    <tr>\n",
       "      <th>1508</th>\n",
       "      <td>33447</td>\n",
       "      <td>2019-01-28</td>\n",
       "      <td>True</td>\n",
       "      <td>185.0</td>\n",
       "      <td>33447</td>\n",
       "      <td>90265</td>\n",
       "      <td>144837</td>\n",
       "    </tr>\n",
       "  </tbody>\n",
       "</table>\n",
       "</div>"
      ],
      "text/plain": [
       "      listing_id       date  available  price     id zipcode  host_id\n",
       "1504       33447 2019-02-01       True  185.0  33447   90265   144837\n",
       "1505       33447 2019-01-31       True  185.0  33447   90265   144837\n",
       "1506       33447 2019-01-30       True  185.0  33447   90265   144837\n",
       "1507       33447 2019-01-29       True  185.0  33447   90265   144837\n",
       "1508       33447 2019-01-28       True  185.0  33447   90265   144837"
      ]
     },
     "execution_count": 114,
     "metadata": {},
     "output_type": "execute_result"
    }
   ],
   "source": [
    "df_five.head()"
   ]
  },
  {
   "cell_type": "markdown",
   "metadata": {},
   "source": [
    "### Question 9: Focusing on the data from 2019-01-01 to 2019-04-01 (inclusive), what are five zipcodes that have at least 30 listings and have the largest absolute difference between the average prices on weekends versus the average prices on weekdays? (Weekends = Saturday and Sunday). Please give the zipcodes as well as the listing prices\n",
    "**Question 9 Answer:**\n",
    "\n",
    "(You need to write your answer in this markdown cell)"
   ]
  },
  {
   "cell_type": "code",
   "execution_count": null,
   "metadata": {},
   "outputs": [],
   "source": []
  },
  {
   "cell_type": "code",
   "execution_count": 9,
   "metadata": {},
   "outputs": [],
   "source": [
    "# You need to provide the code to answer the previous quesiton\n",
    "\n"
   ]
  },
  {
   "cell_type": "markdown",
   "metadata": {},
   "source": [
    "### Question 10: What is the average and standard deviation of the daily total capacity at Airbnb Los Angeles from 2019-01-01 to 2019-04-01? The daily total capacity in a day is the number of beds that are available in that given date. What is the average and standard deviation of the daily price per bed at Airbnb Los Angeles from 2019-01-01 to 2019-04-01?\n",
    "**Question 10 Answer:** \n",
    "(You need to write your answer in this markdown cell)"
   ]
  },
  {
   "cell_type": "code",
   "execution_count": 35,
   "metadata": {},
   "outputs": [
    {
     "data": {
      "text/plain": [
       "(106.00370710110897, 2.589224898513359, daily_total_capacity    51105.835165\n",
       " dtype: float64, daily_total_capacity    1387.175342\n",
       " dtype: float64)"
      ]
     },
     "execution_count": 35,
     "metadata": {},
     "output_type": "execute_result"
    }
   ],
   "source": [
    "# You need to provide the code to answer the previous quesiton\n",
    "df_beds=df.loc[:,[\"id\",\"beds\",\"host_id\"]]\n",
    "df_10 = df_calendar.loc[(df_calendar.date >= \"2019-1-1\") & (df_calendar.date <= \"2019-4-1\"),:]\n",
    "df_bedjoin = df_10.merge(df_beds, how=\"inner\", left_on =\"listing_id\",right_on =\"id\")\n",
    "df_bedjoin[\"available\"] = df_bedjoin[\"available\"].apply(lambda x: True if x ==\"t\" else False)\n",
    "df_bedjoin[\"price\"] = df_bedjoin[\"price\"].apply(lambda x: float(str(x).replace(\"$\",\"\").replace(\",\",\"\")))\n",
    "daily_capacity=df_bedjoin.groupby(\"date\").apply(lambda x:pd.Series({\"daily_total_capacity\":(x[\"available\"]*x[\"beds\"]).sum()}))\n",
    "df_daily_money =df_bedjoin.groupby(\"date\").apply(lambda x:x[\"price\"].sum()/((x[\"available\"]*x[\"beds\"]).sum()))\n",
    "df_daily_money.mean(),df_daily_money.std(),daily_capacity.mean(),daily_capacity.std()"
   ]
  },
  {
   "cell_type": "code",
   "execution_count": 217,
   "metadata": {},
   "outputs": [
    {
     "data": {
      "text/plain": [
       "id                                    int64\n",
       "listing_url                          object\n",
       "scrape_id                             int64\n",
       "last_scraped                         object\n",
       "name                                 object\n",
       "summary                              object\n",
       "space                                object\n",
       "description                          object\n",
       "experiences_offered                  object\n",
       "neighborhood_overview                object\n",
       "notes                                object\n",
       "transit                              object\n",
       "access                               object\n",
       "interaction                          object\n",
       "house_rules                          object\n",
       "thumbnail_url                       float64\n",
       "medium_url                          float64\n",
       "picture_url                          object\n",
       "xl_picture_url                      float64\n",
       "host_id                               int64\n",
       "host_url                             object\n",
       "host_name                            object\n",
       "host_since                           object\n",
       "host_location                        object\n",
       "host_about                           object\n",
       "host_response_time                   object\n",
       "host_response_rate                   object\n",
       "host_acceptance_rate                float64\n",
       "host_is_superhost                    object\n",
       "host_thumbnail_url                   object\n",
       "                                     ...   \n",
       "extra_people                         object\n",
       "minimum_nights                        int64\n",
       "maximum_nights                        int64\n",
       "calendar_updated                     object\n",
       "has_availability                     object\n",
       "availability_30                       int64\n",
       "availability_60                       int64\n",
       "availability_90                       int64\n",
       "availability_365                      int64\n",
       "calendar_last_scraped                object\n",
       "number_of_reviews                     int64\n",
       "first_review                         object\n",
       "last_review                          object\n",
       "review_scores_rating                float64\n",
       "review_scores_accuracy              float64\n",
       "review_scores_cleanliness           float64\n",
       "review_scores_checkin               float64\n",
       "review_scores_communication         float64\n",
       "review_scores_location              float64\n",
       "review_scores_value                 float64\n",
       "requires_license                     object\n",
       "license                              object\n",
       "jurisdiction_names                   object\n",
       "instant_bookable                     object\n",
       "is_business_travel_ready             object\n",
       "cancellation_policy                  object\n",
       "require_guest_profile_picture        object\n",
       "require_guest_phone_verification     object\n",
       "calculated_host_listings_count        int64\n",
       "reviews_per_month                   float64\n",
       "Length: 96, dtype: object"
      ]
     },
     "execution_count": 217,
     "metadata": {},
     "output_type": "execute_result"
    }
   ],
   "source": [
    "df.dtypes"
   ]
  },
  {
   "cell_type": "markdown",
   "metadata": {},
   "source": [
    "## Part 2 (15 Points):\n",
    "\n",
    "In this part, you need to find **5** interesting business questions out of the datasets. You then need to write Python code to answer the questions. Last, you need to write a 200-word summary of your answers and business insights you get from ansewr these 5 questions baed on your code. You will be evaluated based on the following criterion:\n",
    "\n",
    "1. You need to ask three business-relevant questions (2 points)\n",
    "2. You need to answer these three questions using Python and the datasets (1 points)\n",
    "3. You have at least **5** graphs to visualize your insights (2 points)\n",
    "4. Your executive summary of your answers are well-written and make sense (5 points)\n",
    "5. Your business insights are very interesting and the report is creative (5 points)\n"
   ]
  },
  {
   "cell_type": "markdown",
   "metadata": {},
   "source": [
    "**(You need to use this cell to write your 5 questions)**\n",
    "\n",
    "**Question 1:** How is the distribution for the review scores values for every host from 2018/12/01 to 2018/12/31\n",
    "\n",
    "**Question 2:** \n",
    "\n",
    "**Question 3:**\n",
    "\n",
    "**Question 4:**\n",
    "\n",
    "**Question 5:**\n"
   ]
  },
  {
   "cell_type": "code",
   "execution_count": 51,
   "metadata": {},
   "outputs": [],
   "source": [
    "# Your code to answer Question 1\n",
    "import matplotlib.pyplot as plt\n",
    "avg_review_value=df.review_scores_value.mean()\n",
    "avg_review_per_host = df.groupby(\"host_id\").review_scores_value.mean().reset_index()\n",
    "good_host = avg_review_per_host.loc[avg_review_per_host[\"review_scores_value\"]>= avg_review_value,:]\n",
    "good_hostlist=good_host[\"host_id\"].values.tolist()\n",
    "# good_host[\"review_scores_value\"].plot(kind=\"hist\",bins=5,x = \"review_values\",y = \"counts_good_hosts\")\n",
    "hostlisting=df.loc[:,[\"host_id\",\"id\",\"city\"]]\n",
    "most_available_ten_cities = [\"Los Angeles\",\"Long Beach\",\"West Hollywood\",\"Santa Monica\",\"Pasadena\",\\\n",
    "                     \"Beverly Hills\",\"Malibu\",\"Glendale\",\"Burbank\",\"Redondo Beach\"]\n",
    "df_nextmonth = df_calendar.loc[(df_calendar.date >= \"2018-12-1\")&(df_calendar.date <= \"2018-12-31\")&(df_calendar.available == \"t\"),:]\n",
    "nextavailable=df_nextmonth.merge(hostlisting,how=\"inner\",left_on=\"listing_id\",right_on=\"id\")\n",
    "nextavailable[\"price\"] = nextavailable[\"price\"].apply(lambda x: float(str(x).replace(\"$\",\"\").replace(\",\",\"\")))\n",
    "good_available=nextavailable.loc[nextavailable[\"host_id\"].isin(good_hostlist),:]\n",
    "top_available=good_available.loc[good_available[\"city\"].isin(most_available_ten_cities),:]"
   ]
  },
  {
   "cell_type": "code",
   "execution_count": 144,
   "metadata": {},
   "outputs": [
    {
     "data": {
      "text/plain": [
       "['Los Angeles',\n",
       " 'Long Beach',\n",
       " 'West Hollywood',\n",
       " 'Santa Monica',\n",
       " 'Beverly Hills',\n",
       " 'Marina del Rey',\n",
       " 'Pasadena',\n",
       " 'Malibu',\n",
       " 'Glendale',\n",
       " 'Rowland Heights']"
      ]
     },
     "execution_count": 144,
     "metadata": {},
     "output_type": "execute_result"
    }
   ],
   "source": []
  },
  {
   "cell_type": "code",
   "execution_count": 81,
   "metadata": {},
   "outputs": [
    {
     "data": {
      "text/plain": [
       "<matplotlib.axes._subplots.AxesSubplot at 0x1dd449d9f98>"
      ]
     },
     "execution_count": 81,
     "metadata": {},
     "output_type": "execute_result"
    },
    {
     "data": {
      "image/png": "[encoded data removed]",
      "text/plain": [
       "<Figure size 648x432 with 2 Axes>"
      ]
     },
     "metadata": {},
     "output_type": "display_data"
    }
   ],
   "source": [
    "import seaborn as sns\n",
    "# fig1, ax1 = plt.subplots(figsize=(20,4))\n",
    "# ax1.set_title('Price Boxplot of Top ten cities')\n",
    "# sns.boxplot(x=\"city\", y=\"price\", data=top_available,\n",
    "#             whis=\"range\", palette=\"vlag\",sym=None)\n",
    "# ax1.set_ylim([0,1000])\n",
    "sns.set()\n",
    "\n",
    "heats = top.pivot(\"city\", \"date\", \"price\")\n",
    "\n",
    "# Draw a heatmap with the numeric values in each cell\n",
    "f, ax = plt.subplots(figsize=(9, 6))\n",
    "sns.heatmap(heats, annot=True, fmt=\"f\", linewidths=.5, ax=ax)\n",
    "Question 5: What is price distribution for the the top 10 most available city from 2018/12/01 to 2018/12/31"
   ]
  },
  {
   "cell_type": "code",
   "execution_count": 53,
   "metadata": {},
   "outputs": [],
   "source": [
    "# def priceclass(value):\n",
    "#     listclass=\"\"\n",
    "#     if value <=100:\n",
    "#         listclass =\"Low Price\"\n",
    "#     elif value <= 200:\n",
    "#         listclass=\"Economy\"\n",
    "#     elif value <= 600:\n",
    "#         listclass=\"Economy Premium\"\n",
    "#     elif value <= 1200:\n",
    "#         listclass=\"Premium\"\n",
    "#     elif value >= 1500:\n",
    "#         listclass=\"Royal\"\n",
    "#     return listclass\n",
    "# good_available[\"price_class\"]=good_available.price.apply(priceclass)\n"
   ]
  },
  {
   "cell_type": "code",
   "execution_count": 112,
   "metadata": {},
   "outputs": [
    {
     "data": {
      "text/plain": [
       "Text(0.5,1,'Which neighbourhood do the good-reviewed hosts belong to')"
      ]
     },
     "execution_count": 112,
     "metadata": {},
     "output_type": "execute_result"
    },
    {
     "data": {
      "image/png": "[encoded data removed]",
      "text/plain": [
       "<Figure size 864x504 with 1 Axes>"
      ]
     },
     "metadata": {},
     "output_type": "display_data"
    }
   ],
   "source": [
    "good_host_neighbour=df.loc[df[\"neighbourhood_cleansed\"].isin(most_available_ten_cities),[\"host_id\",\"neighbourhood_cleansed\"]]\n",
    "good_neighbor=good_host_neighbour.groupby(\"neighbourhood_cleansed\").host_id.count().reset_index()\n",
    "good_neighbor=good_neighbor.rename(columns={\"host_id\":\"num_of_good_neighbor\"})\n",
    "plt.style.use(\"ggplot\")\n",
    "fig_nei,ax_nei=plt.subplots(figsize=(12,7))\n",
    "good_neighbor.plot(kind=\"barh\",x=\"neighbourhood_cleansed\",y=\"num_of_good_neighbor\",ax=ax_nei)\n",
    "ax_nei.set_ylabel(\"Top ten most available cities\")\n",
    "ax_nei.set_title(\"Which neighbourhood do the good-reviewed hosts belong to?\",fontsize=15)"
   ]
  },
  {
   "cell_type": "code",
   "execution_count": 44,
   "metadata": {},
   "outputs": [
    {
     "data": {
      "text/plain": [
       "14381"
      ]
     },
     "execution_count": 44,
     "metadata": {},
     "output_type": "execute_result"
    }
   ],
   "source": [
    "# Your code to answer Question 2\n",
    "len(good_hostlist)"
   ]
  },
  {
   "cell_type": "code",
   "execution_count": null,
   "metadata": {},
   "outputs": [],
   "source": [
    "# Your code to answer Question 3"
   ]
  },
  {
   "cell_type": "code",
   "execution_count": null,
   "metadata": {},
   "outputs": [],
   "source": [
    "# Your code to answer Question 4"
   ]
  },
  {
   "cell_type": "code",
   "execution_count": null,
   "metadata": {},
   "outputs": [],
   "source": [
    "# Your code to answer Question 5"
   ]
  },
  {
   "cell_type": "markdown",
   "metadata": {},
   "source": [
    "## Executive Summary\n",
    "**(You need to use this cell to write your executive summary)**\n"
   ]
  }
 ],
 "metadata": {
  "kernelspec": {
   "display_name": "Python 3",
   "language": "python",
   "name": "python3"
  },
  "language_info": {
   "codemirror_mode": {
    "name": "ipython",
    "version": 3
   },
   "file_extension": ".py",
   "mimetype": "text/x-python",
   "name": "python",
   "nbconvert_exporter": "python",
   "pygments_lexer": "ipython3",
   "version": "3.6.5"
  }
 },
 "nbformat": 4,
 "nbformat_minor": 2
}
